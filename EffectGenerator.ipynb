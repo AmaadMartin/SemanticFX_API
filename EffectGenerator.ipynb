{
 "cells": [
  {
   "cell_type": "markdown",
   "metadata": {},
   "source": []
  },
  {
   "cell_type": "code",
   "execution_count": 1,
   "metadata": {},
   "outputs": [],
   "source": [
    "from EffectGenerator import EffectGeneratorAssistant\n"
   ]
  },
  {
   "cell_type": "code",
   "execution_count": 2,
   "metadata": {},
   "outputs": [],
   "source": [
    "gpt = EffectGeneratorAssistant()\n"
   ]
  },
  {
   "cell_type": "code",
   "execution_count": 3,
   "metadata": {},
   "outputs": [],
   "source": [
    "thread_id = gpt.create_conversation()"
   ]
  },
  {
   "cell_type": "code",
   "execution_count": 4,
   "metadata": {},
   "outputs": [
    {
     "data": {
      "text/plain": [
       "'thread_CIHvsoBo2tXzdwSCUVCSRcZW'"
      ]
     },
     "execution_count": 4,
     "metadata": {},
     "output_type": "execute_result"
    }
   ],
   "source": [
    "thread_id"
   ]
  },
  {
   "cell_type": "code",
   "execution_count": 5,
   "metadata": {},
   "outputs": [
    {
     "data": {
      "text/plain": [
       "'Current State: None\\n\\n Query: Make the kick drum have more punch'"
      ]
     },
     "execution_count": 5,
     "metadata": {},
     "output_type": "execute_result"
    }
   ],
   "source": [
    "query = \"Make the kick drum have more punch\"\n",
    "current_state = \"None\"\n",
    "new_query = f\"Current State: {current_state}\\n\\n Query: {query}\"\n",
    "new_query"
   ]
  },
  {
   "cell_type": "code",
   "execution_count": 6,
   "metadata": {},
   "outputs": [
    {
     "name": "stdout",
     "output_type": "stream",
     "text": [
      "Run(id='run_Cr34HolbgapPmylt1ojc1w7J', assistant_id='asst_JCnDtMcFtKJpQtg1Cr08V6DX', cancelled_at=None, completed_at=None, created_at=1704597106, expires_at=1704597706, failed_at=None, file_ids=[], instructions=\"\\nYou are an expert audio engineer who will serve as a personalized assistant to other audio engineers and producers. They will communicate with you using normal vernacular common with producers, or they will be explicit. Most of their requests and queries will consist of editing equalization, dynamics, and effects for different stems. You are tasked with creating it by combining several low level effects out of the following: \\n- filter\\n- reverb\\n- compressor\\n- delayLine\\n- phaser\\n- chorus\\n\\nYou will have functions to tweak specific parameters pertaining to each effect , similar to how you would in a traditional plugin in a DAW. The order of effects is dependent on the order you add them in. \\n\\nYou don't have to use every effect and could use multiple effects multiple times. You are encouraged to make high quality effects. It is your decision on how many and which effects to apply, and the parameters you choose.\\n\\nHere are some things to keep in mind.\\n- Reverb sounds much better when an EQ is applied before. Usually, when reverb is needed, we will create a bus for the stem, that will be the stem’s designated ‘Reverb Bus.’ On the Reverb Bus, apply EQ, then add Reverb. This is because otherwise, it elongates frequencies that weren't cut off. Usually, a good baseline for EQ before reverb is to put a high pass filter on 500hz to make it sound thin/bright, and put a low pass filter on 8khz to make it sound dark/gloomy. \\n- The same follows for most effects, effects should be put on a bus, not purely on the stem.\\n-  For delay, you would put it on a bus, then put an EQ, then apply effects as necessary, however for the EQ, you choose what you want to pass.\\n- For chorus, you put it on a bus, you decide whether or not you want to apply EQ, then you apply Chorus, but something important to understand is the Haas method, where you keep the rate very low around .1hz. \\n- For bass you usually only want to hear it in the middle frequencies. \\n- Compression is often used for drums, especially kicks.\\n- People tent to put reverb on snares and high hats\\n\\nHere are some examples of inputs and what a producer would expect to happen. The format will be {input}: {producer expectations}:\\n- Make my vocals sound brighter or have more clarity: have a high shelf boost, and compress highs if necessary\\n- My vocals sound thin, make them more full: Boost low mid on an EQ. 120hz for male and 240hz for female\\n- Make my vocals have more presence: Boost mid on EQ 2k-4k hz\\n- I want my vocals to sound spacier: Apply Reverb/delay/chorus\\n- The bass sounds muddy, make it less muddy: Dip the low mid on an EQ around 150-300hz\\n- I need more bass there isn't enough bass: Low shelf boost around 50-100hz\\n- I need more rumble there isn't enough rumble: Low shelf boost behind fundamental (behind hump of frequencies) Most likely 40hz and below.\\n- I want it to hit harder I want more punch: Compress it / add an EQ boost between 100-200hz. \\n- I want the bass to be warmer: compress it, add overdrive (subtle), add an EQ boost between 125-250hz\\n- I want the bass to feel wider: send it to a bus with chorus on it and an EQ (side setting) with a high pass filter till about 160.\\n- I want the melody to sound warmer: add overdrive (subtle) add EQ boost between 125-250hz\\n- I want the melody to sound darker: low pass filter (depends on how dark you want it)\\n- I want the melody to sound spacier: Apply reverb/delay/chorus\\n- I want  the melody to sound wider: Apply Chorus\\n- I want the drums to hit harder/punch: Punchy compression subtle overdrive\\n- I want the drums to be controlled better: Gluey compression\\n- I want my drums to sound more full: parallel compression\\n- I want my drums to sound like they are in a room/cathedral/church/{place}:  Reverb\\n- Make my drums sound less harsh: high shelf cut around 6.3k with an EQ, OR a D-esser with shelf setting around 6.3k should give them the choice\\n- I want the mix sound warmer: add an EQ boost between 125-250hz, +3 gain max, wide notch\\n- I want my mix to sound more controlled: gluey compression\\n- I want my mix to have more life: gluey compression on mix, stereo analyzer (subtle)\\n- Make my mix sound wider/bigger/full: stereo analyzer (subtle), add EQ boost between 250-500hz, +3 gain max, wide notch.\\n- Make my mix birgher/more clarity: Add EQ boost between 5k-10k hz, +3 gain max, wide notch. \\n- I can't hear instrument X in my mix: find what frequencies x occupies, see which stems/tracks occupies the same frequencies (instrument y), put a wide EQ dip on Y where the frequencies clash, put x's volume a little up as well.\\n- I can't hear my kick, make it stand out: Dip on the fundamental (50-60hz) on the bass track with a Dynamic EQ. \\n- Make my vocals sit better on the mix: Dip on the 6.3k-10k range on the melody and drum track with a Dynamic EQ, cut it lower on the melody track then the drum. \\n\\nFor each query, for the stem in question, you will be given the current effects applied to the stem, and the current state of their parameters. You will then make a decision on which effects to apply to the stem and change the parameters accordingly. Make sure you think step by step about your answer and review it to ensure a high quality answer. Make sure to explain what you have done to the user so they can understand your answer.\\n\", last_error=None, metadata={}, model='gpt-4', object='thread.run', required_action=None, started_at=None, status='queued', thread_id='thread_CIHvsoBo2tXzdwSCUVCSRcZW', tools=[ToolAssistantToolsCode(type='code_interpreter'), ToolAssistantToolsFunction(function=FunctionDefinition(name='addPeakFilter', description='Adds a filter with coefficients for a peak filter centred around a given frequency, with a variable Q and gain. The gain is a scale factor that the centre frequencies are multiplied by, so values greater than 1.0 will boost the centre frequencies, values less than 1.0 will attenuate them.', parameters={'type': 'object', 'properties': {'centreFrequency': {'type': 'number', 'description': 'The centreFrequency of the filter'}, 'gainFactor': {'type': 'number', 'description': 'The gain of the filter'}, 'Q': {'type': 'number', 'description': 'The Q of the filter'}}, 'required': ['frequency', 'gain', 'Q']}), type='function'), ToolAssistantToolsFunction(function=FunctionDefinition(name='addLowShelfFilter', description='Adds a filter with coefficients for a low-pass shelf filter with variable Q and gain. The gain is a scale factor that the low frequencies are multiplied by, so values greater than 1.0 will boost the low frequencies, values less than 1.0 will attenuate them', parameters={'type': 'object', 'properties': {'cutOffFrequency': {'type': 'number', 'description': 'The cutOffFrequency of the filter'}, 'gainFactor': {'type': 'number', 'description': 'The gain of the filter'}, 'Q': {'type': 'number', 'description': 'The Q of the filter'}}, 'required': ['frequency', 'gain', 'Q']}), type='function'), ToolAssistantToolsFunction(function=FunctionDefinition(name='addHighShelfFilter', description='Adds a filter with coefficients for a high-pass shelf filter with variable Q and gain. The gain is a scale factor that the high frequencies are multiplied by, so values greater than 1.0 will boost the high frequencies, values less than 1.0 will attenuate them.', parameters={'type': 'object', 'properties': {'cutOffFrequency': {'type': 'number', 'description': 'The cutOffFrequency of the filter'}, 'gainFactor': {'type': 'number', 'description': 'The gain of the filter'}, 'Q': {'type': 'number', 'description': 'The Q of the filter'}}, 'required': ['frequency', 'gain', 'Q']}), type='function'), ToolAssistantToolsFunction(function=FunctionDefinition(name='addReverb', description='Adds a reverb with the given parameters', parameters={'type': 'object', 'properties': {'roomSize': {'type': 'number', 'description': 'The room size of the reverb'}, 'damping': {'type': 'number', 'description': 'The damping of the reverb'}, 'wetLevel': {'type': 'number', 'description': 'The wet level of the chorus ranges from 0-1'}, 'width': {'type': 'number', 'description': 'The width of the reverb'}}, 'required': ['roomSize', 'damping', 'wetLevel', 'width']}), type='function'), ToolAssistantToolsFunction(function=FunctionDefinition(name='addCompressor', description='Adds a compressor with the given parameters', parameters={'type': 'object', 'properties': {'threshold': {'type': 'number', 'description': 'the threshold in dB of the compressor'}, 'ratio': {'type': 'number', 'description': 'the ratio of the compressor (must be higher or equal to 1)'}, 'attack': {'type': 'number', 'description': 'the attack time in milliseconds of the compressor'}, 'release': {'type': 'number', 'description': 'the release time in milliseconds of the compressor'}}, 'required': ['threshold', 'ratio', 'attack', 'release']}), type='function'), ToolAssistantToolsFunction(function=FunctionDefinition(name='addDelayLine', description='Adds a delay line with the given parameters', parameters={'type': 'object', 'properties': {'delay': {'type': 'number', 'description': 'the delay in samples'}, 'maximumDelayInSamples': {'type': 'number', 'description': 'maximum delay in samples'}}, 'required': ['delay', 'maximumDelayInSamples']}), type='function'), ToolAssistantToolsFunction(function=FunctionDefinition(name='addPhaser', description='Adds a phaser with the given parameters', parameters={'type': 'object', 'properties': {'rate': {'type': 'number', 'description': 'the rate (in Hz) of the LFO modulating the phaser all-pass filters'}, 'depth': {'type': 'number', 'description': 'the volume (between 0 and 1) of the LFO modulating the phaser all-pass filters'}, 'centreFrequency': {'type': 'number', 'description': 'the centre frequency (in Hz) of the phaser all-pass filters modulation'}, 'feedback': {'type': 'number', 'description': 'the feedback volume (between -1 and 1) of the phaser'}, 'mix': {'type': 'number', 'description': 'the amount of dry and wet signal in the output of the phaser (between 0 for full dry and 1 for full wet)'}}, 'required': ['rate', 'depth', 'centerFrequency', 'feedback', 'mix']}), type='function'), ToolAssistantToolsFunction(function=FunctionDefinition(name='addChorus', description='Adds a chorus with the given parameters', parameters={'type': 'object', 'properties': {'rate': {'type': 'number', 'description': 'the rate (in Hz) of the LFO modulating the chorus delay line'}, 'depth': {'type': 'number', 'description': 'the volume of the LFO modulating the chorus delay line (between 0 and 1)'}, 'centreDelay': {'type': 'number', 'description': 'the centre delay in milliseconds of the chorus delay line modulation'}, 'feedback': {'type': 'number', 'description': 'the feedback volume (between -1 and 1) of the chorus delay line'}, 'mix': {'type': 'number', 'description': 'the amount of dry and wet signal in the output of the chorus (between 0 for full dry and 1 for full wet)'}}, 'required': ['rate', 'depth', 'centreDelay', 'feedback', 'mix']}), type='function')])\n",
      "in_progress\n",
      "in_progress\n",
      "in_progress\n",
      "in_progress\n",
      "in_progress\n",
      "in_progress\n",
      "in_progress\n",
      "in_progress\n",
      "in_progress\n",
      "in_progress\n",
      "in_progress\n",
      "in_progress\n",
      "in_progress\n",
      "in_progress\n",
      "in_progress\n",
      "in_progress\n",
      "in_progress\n",
      "in_progress\n",
      "in_progress\n",
      "in_progress\n",
      "in_progress\n",
      "in_progress\n",
      "in_progress\n",
      "in_progress\n",
      "in_progress\n",
      "in_progress\n",
      "in_progress\n",
      "in_progress\n",
      "in_progress\n",
      "in_progress\n",
      "in_progress\n",
      "in_progress\n",
      "in_progress\n",
      "in_progress\n",
      "in_progress\n",
      "in_progress\n",
      "in_progress\n",
      "in_progress\n",
      "in_progress\n",
      "in_progress\n",
      "in_progress\n",
      "in_progress\n",
      "in_progress\n",
      "in_progress\n",
      "in_progress\n",
      "in_progress\n",
      "in_progress\n",
      "in_progress\n",
      "in_progress\n",
      "in_progress\n",
      "in_progress\n",
      "in_progress\n",
      "in_progress\n",
      "in_progress\n",
      "in_progress\n",
      "requires_action\n",
      "[RequiredActionFunctionToolCall(id='call_mrxXqvX9FdBkBnzQlNMqSliB', function=Function(arguments='{\\n  \"threshold\": -18,\\n  \"ratio\": 7,\\n  \"attack\": 10,\\n  \"release\": 40\\n}', name='addCompressor'), type='function')]\n",
      "{'threshold': -18, 'ratio': 7, 'attack': 10, 'release': 40}\n",
      "in_progress\n",
      "in_progress\n",
      "in_progress\n",
      "in_progress\n",
      "in_progress\n",
      "in_progress\n",
      "in_progress\n",
      "in_progress\n",
      "in_progress\n",
      "requires_action\n",
      "[RequiredActionFunctionToolCall(id='call_sULtidS7vukeu0Ms0mDl2Uan', function=Function(arguments='{\\n  \"centreFrequency\": 150,\\n  \"gainFactor\": 1.2,\\n  \"Q\": 1\\n}', name='addPeakFilter'), type='function')]\n",
      "{'centreFrequency': 150, 'gainFactor': 1.2, 'Q': 1}\n",
      "in_progress\n",
      "in_progress\n",
      "in_progress\n",
      "in_progress\n",
      "in_progress\n",
      "in_progress\n",
      "in_progress\n",
      "in_progress\n",
      "in_progress\n",
      "in_progress\n",
      "in_progress\n",
      "in_progress\n",
      "in_progress\n",
      "in_progress\n",
      "in_progress\n",
      "in_progress\n",
      "in_progress\n",
      "in_progress\n",
      "in_progress\n",
      "in_progress\n",
      "in_progress\n",
      "in_progress\n",
      "in_progress\n",
      "in_progress\n",
      "in_progress\n",
      "in_progress\n",
      "in_progress\n",
      "in_progress\n",
      "in_progress\n",
      "completed\n",
      "====================================\n",
      "SyncCursorPage[ThreadMessage](data=[ThreadMessage(id='msg_LA7XKCE1d2weOPe4Am7HF4rC', assistant_id='asst_JCnDtMcFtKJpQtg1Cr08V6DX', content=[MessageContentText(text=Text(annotations=[], value=\"The effects have been successfully applied to your kick drum stem. \\n\\nTo recap, we've added a compressor to accentuate the kick drum's attack time, making its sound punchier. We've also adjusted the EQ settings to add a boost between 100-200hz increasing the low-end punchiness of the kick drum. \\n\\nYou should now find your kick drum has a richer, more punchy sound. Please review and let me know any additional adjustments you'd like to make.\"), type='text')], created_at=1704597128, file_ids=[], metadata={}, object='thread.message', role='assistant', run_id='run_Cr34HolbgapPmylt1ojc1w7J', thread_id='thread_CIHvsoBo2tXzdwSCUVCSRcZW'), ThreadMessage(id='msg_6MRf5VxpWB9G0gjEgI8olSlk', assistant_id='asst_JCnDtMcFtKJpQtg1Cr08V6DX', content=[MessageContentText(text=Text(annotations=[], value=\"Based on your request, to get the kick drum to have more punch we will employ the use of a compressor. Compression can help to increase the punchiness of the kick drum by accentuating its attack time. We will also add an EQ boost between 100-200hz, this boost will help enhance the punch of the kick drum. \\n\\nLet's proceed to add compression and equalization. \\n\\nParameters for the compressor will be:\\n- Threshold: Since we are just aiming to make the track punchier, it doesn't need to be too low. Around -18dB might be good.\\n- Ratio: We want to make it punchy, so the ratio should be high, around 7:1.\\n- Attack: A slow attack (around 10ms) will allow the punch of the sound to come through before the compressor starts to lower the volume.\\n- Release: A fast release (around 40ms) should be good to keep the track punchy.\\n\\nFor the EQ, we will utilize a peak filter on the 150Hz frequency with a gain factor that is greater than 1 to boost that part of the frequency spectrum. The Q should be around 1 to keep the effect within the desired frequency range.\\n\\nLet's go ahead and add these effects to your kick drum.\"), type='text')], created_at=1704597107, file_ids=[], metadata={}, object='thread.message', role='assistant', run_id='run_Cr34HolbgapPmylt1ojc1w7J', thread_id='thread_CIHvsoBo2tXzdwSCUVCSRcZW'), ThreadMessage(id='msg_4fywyhRjfxkpEpEXPWwB9aNp', assistant_id=None, content=[MessageContentText(text=Text(annotations=[], value='Current State: None\\n\\n Query: Make the kick drum have more punch'), type='text')], created_at=1704597106, file_ids=[], metadata={}, object='thread.message', role='user', run_id=None, thread_id='thread_CIHvsoBo2tXzdwSCUVCSRcZW')], object='list', first_id='msg_LA7XKCE1d2weOPe4Am7HF4rC', last_id='msg_4fywyhRjfxkpEpEXPWwB9aNp', has_more=False)\n",
      "{'effects': [{'type': 'compressor', 'threshold': -18, 'ratio': 7, 'attack': 10, 'release': 40}, {'type': 'peakFilter', 'centreFrequency': 150, 'gainFactor': 1.2, 'Q': 1}]}\n"
     ]
    }
   ],
   "source": [
    "messages, params = gpt.run_generator(new_query, thread_id)"
   ]
  },
  {
   "cell_type": "code",
   "execution_count": 16,
   "metadata": {},
   "outputs": [
    {
     "data": {
      "text/plain": [
       "'assistant'"
      ]
     },
     "execution_count": 16,
     "metadata": {},
     "output_type": "execute_result"
    }
   ],
   "source": [
    "messages.data[0].role"
   ]
  },
  {
   "cell_type": "code",
   "execution_count": 17,
   "metadata": {},
   "outputs": [
    {
     "data": {
      "text/plain": [
       "[{'role': 'assistant',\n",
       "  'value': \"The effects have been successfully applied to your kick drum stem. \\n\\nTo recap, we've added a compressor to accentuate the kick drum's attack time, making its sound punchier. We've also adjusted the EQ settings to add a boost between 100-200hz increasing the low-end punchiness of the kick drum. \\n\\nYou should now find your kick drum has a richer, more punchy sound. Please review and let me know any additional adjustments you'd like to make.\"},\n",
       " {'role': 'assistant',\n",
       "  'value': \"Based on your request, to get the kick drum to have more punch we will employ the use of a compressor. Compression can help to increase the punchiness of the kick drum by accentuating its attack time. We will also add an EQ boost between 100-200hz, this boost will help enhance the punch of the kick drum. \\n\\nLet's proceed to add compression and equalization. \\n\\nParameters for the compressor will be:\\n- Threshold: Since we are just aiming to make the track punchier, it doesn't need to be too low. Around -18dB might be good.\\n- Ratio: We want to make it punchy, so the ratio should be high, around 7:1.\\n- Attack: A slow attack (around 10ms) will allow the punch of the sound to come through before the compressor starts to lower the volume.\\n- Release: A fast release (around 40ms) should be good to keep the track punchy.\\n\\nFor the EQ, we will utilize a peak filter on the 150Hz frequency with a gain factor that is greater than 1 to boost that part of the frequency spectrum. The Q should be around 1 to keep the effect within the desired frequency range.\\n\\nLet's go ahead and add these effects to your kick drum.\"},\n",
       " {'role': 'user',\n",
       "  'value': 'Current State: None\\n\\n Query: Make the kick drum have more punch'}]"
      ]
     },
     "execution_count": 17,
     "metadata": {},
     "output_type": "execute_result"
    }
   ],
   "source": [
    "list(map(lambda x: {\"role\": x.role, \"value\": x.content[0].text.value}, messages.data))"
   ]
  },
  {
   "cell_type": "code",
   "execution_count": 8,
   "metadata": {},
   "outputs": [
    {
     "data": {
      "text/plain": [
       "{'effects': [{'type': 'compressor',\n",
       "   'threshold': -18,\n",
       "   'ratio': 7,\n",
       "   'attack': 10,\n",
       "   'release': 40},\n",
       "  {'type': 'peakFilter', 'centreFrequency': 150, 'gainFactor': 1.2, 'Q': 1}]}"
      ]
     },
     "execution_count": 8,
     "metadata": {},
     "output_type": "execute_result"
    }
   ],
   "source": [
    "params"
   ]
  },
  {
   "cell_type": "code",
   "execution_count": 9,
   "metadata": {},
   "outputs": [],
   "source": [
    "gpt.delete_thread(thread_id)"
   ]
  }
 ],
 "metadata": {
  "kernelspec": {
   "display_name": "SemanticEQEnv",
   "language": "python",
   "name": "python3"
  },
  "language_info": {
   "codemirror_mode": {
    "name": "ipython",
    "version": 3
   },
   "file_extension": ".py",
   "mimetype": "text/x-python",
   "name": "python",
   "nbconvert_exporter": "python",
   "pygments_lexer": "ipython3",
   "version": "3.11.4"
  },
  "orig_nbformat": 4
 },
 "nbformat": 4,
 "nbformat_minor": 2
}
